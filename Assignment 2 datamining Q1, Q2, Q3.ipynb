{
 "cells": [
  {
   "cell_type": "code",
   "execution_count": 102,
   "id": "d26caa33",
   "metadata": {},
   "outputs": [],
   "source": [
    "import cv2 \n",
    "import PIL\n",
    "import matplotlib.pyplot as plt \n",
    "import sklearn\n",
    "import numpy as np\n",
    "from sklearn.model_selection import train_test_split\n",
    "import cv2\n",
    "import os\n",
    "import pandas as pd\n",
    "from sklearn.model_selection import cross_val_score\n",
    "from sklearn.neighbors import KNeighborsClassifier\n",
    "import matplotlib.pyplot as plt\n",
    "from sklearn.model_selection import KFold"
   ]
  },
  {
   "cell_type": "code",
   "execution_count": 90,
   "id": "91829463",
   "metadata": {},
   "outputs": [],
   "source": [
    "#Splitting the dataset containing Weed-4class-33-labels into training and testing\n",
    "dataset=pd.read_csv('/Users/vatsavkolluru/Desktop/Data Mining Assignmemt/Weed-4class-33-labels.csv')\n",
    "train, test = train_test_split(dataset, test_size = 0.2, stratify=dataset[[\"Label\"]]) \n",
    "\n",
    "\n",
    "dataset_folder = \"/Users/vatsavkolluru/Desktop/Data Mining Assignmemt/Weed-4class-33\"\n",
    "\n",
    "\n",
    "#Converting the training images(non-negative class) into pixel intensity histograms\n",
    "folders = train['Filename']\n",
    "images = []\n",
    "image_shapes = []\n",
    "hsitr_train=[]\n",
    "for folder in folders:\n",
    "#     print(folder,\"folder anme\")\n",
    "    image_path = os.path.join(dataset_folder, folder)\n",
    "#     print(image_path)\n",
    "    if image_path!=\"/Users/vatsavkolluru/Desktop/Data Mining Assignmemt/Weed-4class-33/.DS_Store\":\n",
    "        \n",
    "        image = cv2.imread(image_path)\n",
    "        # Convert to RGB as OpenCV uses BGR\n",
    "        gray_images=(cv2.cvtColor(image, cv2.COLOR_BGR2GRAY)) \n",
    "        images.append(gray_images)\n",
    "        hsitr_train.append(cv2.calcHist([images[-1]],[0],None,[256],[0,256]))\n",
    "\n"
   ]
  },
  {
   "cell_type": "code",
   "execution_count": null,
   "id": "2f135b19",
   "metadata": {},
   "outputs": [],
   "source": [
    "#Converting the testing images(non-negative class) into pixel intensity histograms\n",
    "folders_test = test['Filename']\n",
    "images_test = []\n",
    "hsitr_test=[]\n",
    "for folder in folders_test:\n",
    "    image_path = os.path.join(dataset_folder, folder)\n",
    "    if image_path!=\"/Users/vatsavkolluru/Desktop/Data Mining Assignmemt/Weed-4class-33/.DS_Store\":\n",
    "        \n",
    "        image = cv2.imread(image_path)\n",
    "        # Convert to RGB as OpenCV uses BGR\n",
    "        gray_images=(cv2.cvtColor(image, cv2.COLOR_BGR2GRAY)) \n",
    "        images_test.append(gray_images)\n",
    "        hsitr_test.append(cv2.calcHist([images_test[-1]],[0],None,[256],[0,256]))"
   ]
  },
  {
   "cell_type": "code",
   "execution_count": 91,
   "id": "983987a0",
   "metadata": {},
   "outputs": [
    {
     "data": {
      "text/plain": [
       "3381"
      ]
     },
     "execution_count": 91,
     "metadata": {},
     "output_type": "execute_result"
    }
   ],
   "source": [
    "len(hsitr_train)"
   ]
  },
  {
   "cell_type": "code",
   "execution_count": 127,
   "id": "08253d6e",
   "metadata": {},
   "outputs": [],
   "source": [
    "#Converting the training(negative class) images into pixel intensity histograms"
   ]
  },
  {
   "cell_type": "code",
   "execution_count": 92,
   "id": "dfae43b8",
   "metadata": {},
   "outputs": [],
   "source": [
    "#Splitting the data into training and tesing with stratified split to ensure no bias in classes\n",
    "dataset_1=pd.read_csv('/Users/vatsavkolluru/Desktop/Data Mining Assignmemt/Negatives.csv')\n",
    "train1, test1=train_test_split(dataset_1, test_size = 0.2, stratify=dataset_1[[\"Label\"]]) "
   ]
  },
  {
   "cell_type": "code",
   "execution_count": 93,
   "id": "e23e2cc6",
   "metadata": {},
   "outputs": [],
   "source": [
    "dataset_folder_1=\"/Users/vatsavkolluru/Desktop/Data Mining Assignmemt/Negatives\"\n",
    "folders1=train1['Filename']\n",
    "for folder in folders1:\n",
    "#     print(folder,\"folder anme\")\n",
    "    image_path = os.path.join(dataset_folder_1, folder)\n",
    "#     print(image_path)\n",
    "    if image_path!=\"/Users/vatsavkolluru/Desktop/Data Mining Assignmemt/Weed-4class-33/.DS_Store\":\n",
    "        \n",
    "        image = cv2.imread(image_path)\n",
    "        # Convert to RGB as OpenCV uses BGR\n",
    "        gray_images=(cv2.cvtColor(image, cv2.COLOR_BGR2GRAY)) \n",
    "        images.append(gray_images)\n",
    "        hsitr_train.append(cv2.calcHist([images[-1]],[0],None,[256],[0,256]))"
   ]
  },
  {
   "cell_type": "code",
   "execution_count": null,
   "id": "480a93ed",
   "metadata": {},
   "outputs": [],
   "source": [
    "#Converting the testing(negative class) images into pixel intensity histograms"
   ]
  },
  {
   "cell_type": "code",
   "execution_count": 94,
   "id": "f04a4a48",
   "metadata": {},
   "outputs": [],
   "source": [
    "folders_test1 = test1['Filename']\n",
    "for folder in folders_test1:\n",
    "#     print(folder,\"folder anme\")\n",
    "    \n",
    "    image_path = os.path.join(dataset_folder_2, folder)\n",
    "#     if folder==\"20171109-071623-1.jpg\":\n",
    "#         print(\"here\")\n",
    "#         print(image_path)\n",
    "# #     if folder==\"20170729-085707-2.jpg\":\n",
    "# #         print(image_path)\n",
    "    image = cv2.imread(image_path)\n",
    "    # Convert to RGB as OpenCV uses BGR\n",
    "    gray_images=(cv2.cvtColor(image, cv2.COLOR_BGR2GRAY)) \n",
    "    images_test.append(gray_images)\n",
    "    hsitr_test.append(cv2.calcHist([images_test[-1]],[0],None,[256],[0,256]))"
   ]
  },
  {
   "cell_type": "code",
   "execution_count": 95,
   "id": "f90f69b4",
   "metadata": {},
   "outputs": [],
   "source": [
    "train=pd.concat([train, train1])"
   ]
  },
  {
   "cell_type": "code",
   "execution_count": 96,
   "id": "cb89dbdd",
   "metadata": {},
   "outputs": [],
   "source": [
    "test=pd.concat([test, test1])"
   ]
  },
  {
   "cell_type": "code",
   "execution_count": null,
   "id": "69a61549",
   "metadata": {},
   "outputs": [],
   "source": [
    "#Below, it can be verified if all classes have been divided in the ratio 80:20 for training to testing respectively"
   ]
  },
  {
   "cell_type": "code",
   "execution_count": 128,
   "id": "c28bada8",
   "metadata": {},
   "outputs": [
    {
     "data": {
      "text/plain": [
       "8    7284\n",
       "0     900\n",
       "4     849\n",
       "2     825\n",
       "5     807\n",
       "Name: Label, dtype: int64"
      ]
     },
     "execution_count": 128,
     "metadata": {},
     "output_type": "execute_result"
    }
   ],
   "source": [
    "train['Label'].value_counts()"
   ]
  },
  {
   "cell_type": "code",
   "execution_count": 129,
   "id": "9a22b7b9",
   "metadata": {},
   "outputs": [
    {
     "data": {
      "text/plain": [
       "8    1822\n",
       "0     225\n",
       "4     213\n",
       "2     206\n",
       "5     202\n",
       "Name: Label, dtype: int64"
      ]
     },
     "execution_count": 129,
     "metadata": {},
     "output_type": "execute_result"
    }
   ],
   "source": [
    "test['Label'].value_counts()"
   ]
  },
  {
   "cell_type": "code",
   "execution_count": 114,
   "id": "6bbd77d9",
   "metadata": {},
   "outputs": [],
   "source": [
    "X_train=hsitr_train\n",
    "y_train=train['Label']\n",
    "X_train=np.array(X_train)\n",
    "X_train=X_train.reshape(10665, 256)"
   ]
  },
  {
   "cell_type": "code",
   "execution_count": 115,
   "id": "7c409d3c",
   "metadata": {},
   "outputs": [],
   "source": [
    "X_test=hsitr_test\n",
    "y_test=test['Label']\n",
    "X_test=np.array(X_test)\n",
    "X_test=X_test.reshape(2668, 256)"
   ]
  },
  {
   "cell_type": "code",
   "execution_count": 116,
   "id": "e3f8acaf",
   "metadata": {},
   "outputs": [
    {
     "data": {
      "text/plain": [
       "(10665, 256)"
      ]
     },
     "execution_count": 116,
     "metadata": {},
     "output_type": "execute_result"
    }
   ],
   "source": [
    "X_train.shape"
   ]
  },
  {
   "cell_type": "markdown",
   "id": "4515d7b5",
   "metadata": {},
   "source": [
    "# k-fold cross validation for knn"
   ]
  },
  {
   "cell_type": "code",
   "execution_count": 118,
   "id": "9e048023",
   "metadata": {},
   "outputs": [],
   "source": [
    "\n",
    "scores=[]\n",
    "validation_accuracy=[]\n",
    "\n",
    "for n in [1,3,5,7]:\n",
    "    # use the same model as before\n",
    "    knn = KNeighborsClassifier(n_neighbors = n)\n",
    "    cross_validation_score=cross_val_score(knn, X_train, y_train, cv=5, scoring='accuracy')\n",
    "#     print(cross_validation_score, \"cross_validation_score\")\n",
    "    validation_accuracy.append(sum(cross_validation_score)/5)"
   ]
  },
  {
   "cell_type": "code",
   "execution_count": 130,
   "id": "514e0879",
   "metadata": {},
   "outputs": [
    {
     "data": {
      "text/plain": [
       "<matplotlib.collections.PathCollection at 0x7fceb899a5e0>"
      ]
     },
     "execution_count": 130,
     "metadata": {},
     "output_type": "execute_result"
    },
    {
     "data": {
      "image/png": "[encoded data removed]",
      "text/plain": [
       "<Figure size 432x288 with 1 Axes>"
      ]
     },
     "metadata": {
      "needs_background": "light"
     },
     "output_type": "display_data"
    }
   ],
   "source": [
    "plt.xlabel(\"k\")\n",
    "plt.ylabel(\"validation accuracy\")\n",
    "plt.scatter([1,3,5,7], validation_accuracy)"
   ]
  },
  {
   "cell_type": "code",
   "execution_count": 120,
   "id": "c6cc5da1",
   "metadata": {},
   "outputs": [
    {
     "data": {
      "text/plain": [
       "[0.7227379278012189,\n",
       " 0.7414908579465542,\n",
       " 0.7526488513830286,\n",
       " 0.7583684950773558]"
      ]
     },
     "execution_count": 120,
     "metadata": {},
     "output_type": "execute_result"
    }
   ],
   "source": [
    "validation_accuracy"
   ]
  },
  {
   "cell_type": "code",
   "execution_count": 121,
   "id": "9f3394aa",
   "metadata": {},
   "outputs": [],
   "source": [
    "#clearly, we can see that best validation accuracy occurs at k=7 and accuracy% is 75.8%"
   ]
  },
  {
   "cell_type": "markdown",
   "id": "0bf1c68c",
   "metadata": {},
   "source": [
    "# Test accuracy for best k(k=7)"
   ]
  },
  {
   "cell_type": "code",
   "execution_count": null,
   "id": "fb4e5fc3",
   "metadata": {},
   "outputs": [],
   "source": [
    "\"\"\"\n",
    "References: -https://scikit-learn.org/stable/modules/generated/sklearn.neighbors.KNeighborsClassifier.html\n",
    "\"\"\""
   ]
  },
  {
   "cell_type": "code",
   "execution_count": 131,
   "id": "8738b078",
   "metadata": {},
   "outputs": [],
   "source": [
    "knn_best = KNeighborsClassifier(n_neighbors = 7)"
   ]
  },
  {
   "cell_type": "code",
   "execution_count": 132,
   "id": "777d8be4",
   "metadata": {},
   "outputs": [
    {
     "data": {
      "text/plain": [
       "KNeighborsClassifier(n_neighbors=7)"
      ]
     },
     "execution_count": 132,
     "metadata": {},
     "output_type": "execute_result"
    }
   ],
   "source": [
    "knn_best.fit(X_train, y_train)"
   ]
  },
  {
   "cell_type": "code",
   "execution_count": 133,
   "id": "beba3603",
   "metadata": {},
   "outputs": [],
   "source": [
    "# get the predict value from X_test\n",
    "y_pred = knn_best.predict(X_test)"
   ]
  },
  {
   "cell_type": "code",
   "execution_count": 134,
   "id": "327acbb9",
   "metadata": {},
   "outputs": [
    {
     "name": "stdout",
     "output_type": "stream",
     "text": [
      "test accuracy:  0.7706146926536732\n"
     ]
    }
   ],
   "source": [
    "# print the score\n",
    "print('test accuracy: ', knn_best.score(X_test, y_test))"
   ]
  },
  {
   "cell_type": "code",
   "execution_count": null,
   "id": "e8fe0195",
   "metadata": {},
   "outputs": [],
   "source": []
  }
 ],
 "metadata": {
  "kernelspec": {
   "display_name": "Python 3 (ipykernel)",
   "language": "python",
   "name": "python3"
  },
  "language_info": {
   "codemirror_mode": {
    "name": "ipython",
    "version": 3
   },
   "file_extension": ".py",
   "mimetype": "text/x-python",
   "name": "python",
   "nbconvert_exporter": "python",
   "pygments_lexer": "ipython3",
   "version": "3.9.7"
  }
 },
 "nbformat": 4,
 "nbformat_minor": 5
}
