{
 "cells": [
  {
   "cell_type": "code",
   "execution_count": 123,
   "id": "c7e5c39d",
   "metadata": {},
   "outputs": [],
   "source": [
    "import cv2 \n",
    "import PIL\n",
    "import matplotlib.pyplot as plt \n",
    "import sklearn\n",
    "from sklearn.model_selection import train_test_split"
   ]
  },
  {
   "cell_type": "code",
   "execution_count": 124,
   "id": "62808d28",
   "metadata": {},
   "outputs": [],
   "source": [
    "# Here we split data into training and testing data set and then later convert into grayscale images to simplify things"
   ]
  },
  {
   "cell_type": "code",
   "execution_count": 125,
   "id": "2fcfa802",
   "metadata": {},
   "outputs": [],
   "source": [
    "\n",
    "import pandas as pd\n",
    "dataset=pd.read_csv('/Users/vatsavkolluru/Desktop/Data Mining Assignmemt/Weed-4class-33-labels.csv')"
   ]
  },
  {
   "cell_type": "code",
   "execution_count": 127,
   "id": "519b7700",
   "metadata": {},
   "outputs": [
    {
     "data": {
      "text/plain": [
       "8    9106\n",
       "0    1125\n",
       "4    1062\n",
       "2    1031\n",
       "5    1009\n",
       "Name: Label, dtype: int64"
      ]
     },
     "execution_count": 127,
     "metadata": {},
     "output_type": "execute_result"
    }
   ],
   "source": [
    "dataset_2['Label'].value_counts()"
   ]
  },
  {
   "cell_type": "code",
   "execution_count": 128,
   "id": "f02b1d43",
   "metadata": {},
   "outputs": [],
   "source": [
    "#making sure that each class is divided in the ratio 80:20 for train:test respectively\n",
    "\"\"\"\n",
    "Reference: -\n",
    "https://scikit-learn.org/stable/modules/generated/sklearn.model_selection.train_test_split.html\n",
    "\"\"\"\n",
    "\n",
    "train, test = train_test_split(dataset, test_size = 0.2, stratify=dataset[[\"Label\"]]) "
   ]
  },
  {
   "cell_type": "code",
   "execution_count": 129,
   "id": "2bf075c9",
   "metadata": {},
   "outputs": [
    {
     "data": {
      "text/plain": [
       "0    900\n",
       "4    849\n",
       "2    825\n",
       "5    807\n",
       "Name: Label, dtype: int64"
      ]
     },
     "execution_count": 129,
     "metadata": {},
     "output_type": "execute_result"
    }
   ],
   "source": [
    "#train is the dataset with stratified sample without negative class and needs to be cross validated\n",
    "train['Label'].value_counts()"
   ]
  },
  {
   "cell_type": "code",
   "execution_count": 130,
   "id": "e9990c9a",
   "metadata": {},
   "outputs": [
    {
     "data": {
      "text/plain": [
       "0    225\n",
       "4    213\n",
       "2    206\n",
       "5    202\n",
       "Name: Label, dtype: int64"
      ]
     },
     "execution_count": 130,
     "metadata": {},
     "output_type": "execute_result"
    }
   ],
   "source": [
    "test['Label'].value_counts()"
   ]
  },
  {
   "cell_type": "markdown",
   "id": "f60138a3",
   "metadata": {},
   "source": [
    "# Converting the train data into grey scale pixel intensity histograms"
   ]
  },
  {
   "cell_type": "code",
   "execution_count": 156,
   "id": "87cd58eb",
   "metadata": {},
   "outputs": [
    {
     "data": {
      "text/plain": [
       "'\\nReference: -\"https://kapernikov.com/tutorial-image-classification-with-scikit-learn/\"\\n\\n\\n\\n\\nThe code in the above reference has been modified and written as shown to read an image with its path specified\\n'"
      ]
     },
     "execution_count": 156,
     "metadata": {},
     "output_type": "execute_result"
    }
   ],
   "source": [
    "\"\"\"\n",
    "Reference: -\"https://kapernikov.com/tutorial-image-classification-with-scikit-learn/\"\n",
    "\n",
    "\n",
    "\n",
    "\n",
    "The code in the above reference has been modified and written as shown to read an image with its path specified\n",
    "\"\"\""
   ]
  },
  {
   "cell_type": "code",
   "execution_count": 131,
   "id": "bbf0c015",
   "metadata": {},
   "outputs": [],
   "source": [
    "import cv2\n",
    "import os\n",
    "\n",
    "dataset_folder = \"/Users/vatsavkolluru/Desktop/Data Mining Assignmemt/Weed-4class-33\"\n",
    "\n",
    "# Assuming this is a classification task and\n",
    "# your dataset has multiple classes\n",
    "folders = train['Filename']\n",
    "images = []\n",
    "image_shapes = []\n",
    "hsitr=[]\n",
    "for folder in folders:\n",
    "#     print(folder,\"folder anme\")\n",
    "    image_path = os.path.join(dataset_folder, folder)\n",
    "#     print(image_path)\n",
    "    if image_path!=\"/Users/vatsavkolluru/Desktop/Data Mining Assignmemt/Weed-4class-33/.DS_Store\":\n",
    "        \n",
    "        image = cv2.imread(image_path)\n",
    "        # Convert to RGB as OpenCV uses BGR\n",
    "        gray_images=(cv2.cvtColor(image, cv2.COLOR_BGR2GRAY)) \n",
    "        images.append(gray_images)\n",
    "        hsitr.append(cv2.calcHist([images[-1]],[0],None,[256],[0,256]))"
   ]
  },
  {
   "cell_type": "code",
   "execution_count": 132,
   "id": "111f7d1e",
   "metadata": {},
   "outputs": [],
   "source": [
    "X_train_svm=hsitr\n",
    "y_train_svm=train['Label']\n",
    "X_train_rf=hsitr\n",
    "y_train_rf=train['Label']\n",
    "X_train_nn=hsitr\n",
    "y_train_nn=train['Label']"
   ]
  },
  {
   "cell_type": "code",
   "execution_count": 133,
   "id": "76dce238",
   "metadata": {},
   "outputs": [],
   "source": [
    "import numpy as np\n",
    "X_train_svm=np.array(X_train_svm)\n",
    "y_train_svm=np.array(y_train_svm)\n",
    "\n",
    "X_train_rf=np.array(X_train_rf)\n",
    "y_train_rf=np.array(y_train_rf)\n",
    "\n",
    "X_train_nn=np.array(X_train_nn)\n",
    "y_train_nn=np.array(y_train_nn)"
   ]
  },
  {
   "cell_type": "code",
   "execution_count": 134,
   "id": "08bcce52",
   "metadata": {},
   "outputs": [],
   "source": [
    "X_train_svm=X_train_svm.reshape([3381,256])\n",
    "\n",
    "X_train_rf=X_train_rf.reshape([3381,256])\n",
    "\n",
    "X_train_nn=X_train_nn.reshape([3381,256])"
   ]
  },
  {
   "cell_type": "markdown",
   "id": "cb75d7bf",
   "metadata": {},
   "source": [
    "# Converting the test data into grey scale pixel intensity histograms"
   ]
  },
  {
   "cell_type": "code",
   "execution_count": 135,
   "id": "7923bf30",
   "metadata": {},
   "outputs": [],
   "source": [
    "#Converting the test data into required format \n",
    "dataset_folder = \"/Users/vatsavkolluru/Desktop/Data Mining Assignmemt/Weed-4class-33\"\n",
    "\n",
    "# Assuming this is a classification task and\n",
    "# your dataset has multiple classes\n",
    "folders_test = test['Filename']\n",
    "images_test = []\n",
    "image_shapes_test = []\n",
    "hsitr_test=[]\n",
    "for folder in folders_test:\n",
    "#     print(folder,\"folder anme\")\n",
    "    image_path = os.path.join(dataset_folder, folder)\n",
    "#     print(image_path)\n",
    "    if image_path!=\"/Users/vatsavkolluru/Desktop/Data Mining Assignmemt/Weed-4class-33/.DS_Store\":\n",
    "        image = cv2.imread(image_path)\n",
    "        # Convert to RGB as OpenCV uses BGR\n",
    "        gray_images=(cv2.cvtColor(image, cv2.COLOR_BGR2GRAY)) \n",
    "        images_test.append(gray_images)\n",
    "        hsitr_test.append(cv2.calcHist([images_test[-1]],[0],None,[256],[0,256]))\n",
    "X_test=hsitr_test\n",
    "y_test=test['Label']\n",
    "X_test=np.array(X_test)\n",
    "y_test=np.array(y_test)\n",
    "X_test=X_test.reshape([846,256])"
   ]
  },
  {
   "cell_type": "code",
   "execution_count": 136,
   "id": "068a3eca",
   "metadata": {},
   "outputs": [],
   "source": [
    "X_test_nn=X_test\n",
    "X_test_rf=X_test\n",
    "X_test_svm=X_test\n",
    "y_test_nn=y_test\n",
    "y_test_rf=y_test\n",
    "y_test_svm=y_test"
   ]
  },
  {
   "cell_type": "markdown",
   "id": "c4e9edd2",
   "metadata": {},
   "source": [
    "# k fold cross validation"
   ]
  },
  {
   "cell_type": "code",
   "execution_count": 157,
   "id": "2c74c8b5",
   "metadata": {},
   "outputs": [
    {
     "data": {
      "text/plain": [
       "'\\nReferences: -\"https://www.analyticsvidhya.com/blog/2020/04/confusion-matrix-machine-learning/\"\\n'"
      ]
     },
     "execution_count": 157,
     "metadata": {},
     "output_type": "execute_result"
    }
   ],
   "source": [
    "\"\"\"\n",
    "References: -\"https://www.analyticsvidhya.com/blog/2020/04/confusion-matrix-machine-learning/\"\n",
    "\n",
    "This code has been used for plotting the confusion matrices of the three models below\n",
    "\"\"\"\n"
   ]
  },
  {
   "cell_type": "markdown",
   "id": "56f75d64",
   "metadata": {},
   "source": [
    "# SVM"
   ]
  },
  {
   "cell_type": "code",
   "execution_count": null,
   "id": "253387ad",
   "metadata": {},
   "outputs": [],
   "source": [
    "\"\"\"\n",
    "reference-\"https://www.geeksforgeeks.org/major-kernel-functions-in-support-vector-machine-svm/\"\n",
    "\n",
    "From the above reference, the kernel used is gaussian with radial basis method to improve transformation\n",
    "\"\"\""
   ]
  },
  {
   "cell_type": "code",
   "execution_count": 137,
   "id": "8ba8ded1",
   "metadata": {},
   "outputs": [
    {
     "name": "stdout",
     "output_type": "stream",
     "text": [
      "[0.74741507 0.75887574 0.74260355 0.73224852 0.71153846] cross_validation_score\n"
     ]
    }
   ],
   "source": [
    "#SVM\n",
    "# import k-folder\n",
    "# reference-\"https://www.geeksforgeeks.org/major-kernel-functions-in-support-vector-machine-svm/\"\n",
    "scores_svm=[]\n",
    "validation_accuracy_svm=[]\n",
    "from sklearn.model_selection import cross_val_score\n",
    "from sklearn.neighbors import KNeighborsClassifier\n",
    "from sklearn.svm import SVC\n",
    "# use the same model as before\n",
    "svc=SVC(kernel='rbf', C=10)\n",
    "cross_validation_score_svm=cross_val_score(svc, X_train_svm, y_train_svm, cv=5, scoring='accuracy')\n",
    "print(cross_validation_score_svm, \"cross_validation_score\")\n",
    "validation_accuracy_svm.append(sum(cross_validation_score_svm)/5)"
   ]
  },
  {
   "cell_type": "code",
   "execution_count": 138,
   "id": "89547dc7",
   "metadata": {},
   "outputs": [
    {
     "data": {
      "text/plain": [
       "[0.7385362677318137]"
      ]
     },
     "execution_count": 138,
     "metadata": {},
     "output_type": "execute_result"
    }
   ],
   "source": [
    "validation_accuracy_svm"
   ]
  },
  {
   "cell_type": "code",
   "execution_count": 139,
   "id": "20d0bae0",
   "metadata": {},
   "outputs": [],
   "source": [
    "svc.fit(X_train_svm, y_train_svm)\n",
    "y_pred_svm = svc.predict(X_test_svm)"
   ]
  },
  {
   "cell_type": "code",
   "execution_count": 140,
   "id": "9e49e809",
   "metadata": {},
   "outputs": [
    {
     "data": {
      "image/png": "[encoded data removed]",
      "text/plain": [
       "<Figure size 432x288 with 2 Axes>"
      ]
     },
     "metadata": {
      "needs_background": "light"
     },
     "output_type": "display_data"
    },
    {
     "data": {
      "text/plain": [
       "array([[161,  15,  21,  28],\n",
       "       [  8, 174,  14,  10],\n",
       "       [ 28,  47, 130,   8],\n",
       "       [ 27,  21,  18, 136]])"
      ]
     },
     "execution_count": 140,
     "metadata": {},
     "output_type": "execute_result"
    }
   ],
   "source": [
    "from sklearn.metrics import confusion_matrix, ConfusionMatrixDisplay\n",
    "cm_svm = confusion_matrix(y_test_svm, y_pred_svm)\n",
    "disp = ConfusionMatrixDisplay(confusion_matrix=cm_svm, display_labels=clf.classes_)\n",
    "disp.plot()\n",
    "plt.show()\n",
    "cm_svm"
   ]
  },
  {
   "cell_type": "code",
   "execution_count": 141,
   "id": "11ecb0f8",
   "metadata": {},
   "outputs": [],
   "source": [
    "from sklearn.metrics import classification_report"
   ]
  },
  {
   "cell_type": "code",
   "execution_count": 142,
   "id": "fcc6bd9a",
   "metadata": {},
   "outputs": [
    {
     "data": {
      "text/plain": [
       "4"
      ]
     },
     "execution_count": 142,
     "metadata": {},
     "output_type": "execute_result"
    }
   ],
   "source": [
    "len(clf.classes_)"
   ]
  },
  {
   "cell_type": "markdown",
   "id": "42752081",
   "metadata": {},
   "source": [
    "# Random Forest"
   ]
  },
  {
   "cell_type": "code",
   "execution_count": 144,
   "id": "89022222",
   "metadata": {},
   "outputs": [
    {
     "name": "stdout",
     "output_type": "stream",
     "text": [
      "[0.73264402 0.71893491 0.73372781 0.70857988 0.67307692] cross_validation_score\n"
     ]
    }
   ],
   "source": [
    "\n",
    "from sklearn.ensemble import RandomForestClassifier\n",
    "# import k-folder\n",
    "# reference-\"https://www.geeksforgeeks.org/major-kernel-functions-in-support-vector-machine-svm/\"\n",
    "scores_svm=[]\n",
    "validation_accuracy_rf=[]\n",
    "from sklearn.model_selection import cross_val_score\n",
    "from sklearn.neighbors import KNeighborsClassifier\n",
    "from sklearn.svm import SVC\n",
    "\n",
    "# use the same model as before\n",
    "clf=RandomForestClassifier()\n",
    "cross_validation_score=cross_val_score(clf, X_train_rf, y_train_rf, cv=5, scoring='accuracy')\n",
    "print(cross_validation_score, \"cross_validation_score\")\n",
    "validation_accuracy_rf.append(sum(cross_validation_score)/5)"
   ]
  },
  {
   "cell_type": "code",
   "execution_count": 145,
   "id": "d1d7bca0",
   "metadata": {},
   "outputs": [
    {
     "data": {
      "text/plain": [
       "[0.7133927088704954]"
      ]
     },
     "execution_count": 145,
     "metadata": {},
     "output_type": "execute_result"
    }
   ],
   "source": [
    "validation_accuracy_rf"
   ]
  },
  {
   "cell_type": "code",
   "execution_count": 146,
   "id": "c1b3d835",
   "metadata": {},
   "outputs": [],
   "source": [
    "clf.fit(X_train_rf, y_train_rf)\n",
    "y_pred_rf = clf.predict(X_test_rf)"
   ]
  },
  {
   "cell_type": "code",
   "execution_count": 147,
   "id": "a8b3a24a",
   "metadata": {},
   "outputs": [
    {
     "data": {
      "image/png": "[encoded data removed]",
      "text/plain": [
       "<Figure size 432x288 with 2 Axes>"
      ]
     },
     "metadata": {
      "needs_background": "light"
     },
     "output_type": "display_data"
    }
   ],
   "source": [
    "cm_rf = confusion_matrix(y_test_rf, y_pred_rf, labels=clf.classes_)\n",
    "disp = ConfusionMatrixDisplay(confusion_matrix=cm_rf, display_labels=clf.classes_)\n",
    "disp.plot()\n",
    "plt.show()"
   ]
  },
  {
   "cell_type": "markdown",
   "id": "b4bf320a",
   "metadata": {},
   "source": [
    "# Neural network"
   ]
  },
  {
   "cell_type": "code",
   "execution_count": 149,
   "id": "b331cf10",
   "metadata": {},
   "outputs": [
    {
     "name": "stdout",
     "output_type": "stream",
     "text": [
      "[0.73264402 0.71893491 0.73372781 0.70857988 0.67307692] cross_validation_score\n"
     ]
    }
   ],
   "source": [
    "from sklearn.neural_network import MLPClassifier\n",
    "scores_nn=[]\n",
    "validation_accuracy_nn=[]\n",
    "clf1 = MLPClassifier(learning_rate='adaptive')\n",
    "cross_validation_score_nn=cross_val_score(clf1, X_train_rf, y_train_rf, cv=5, scoring='accuracy')\n",
    "print(cross_validation_score, \"cross_validation_score\")\n",
    "validation_accuracy_nn.append(sum(cross_validation_score_nn)/5)"
   ]
  },
  {
   "cell_type": "code",
   "execution_count": 150,
   "id": "7965b851",
   "metadata": {},
   "outputs": [
    {
     "data": {
      "text/plain": [
       "[0.6220023074300998]"
      ]
     },
     "execution_count": 150,
     "metadata": {},
     "output_type": "execute_result"
    }
   ],
   "source": [
    "validation_accuracy_nn"
   ]
  },
  {
   "cell_type": "code",
   "execution_count": 151,
   "id": "0c66c03d",
   "metadata": {},
   "outputs": [],
   "source": [
    "clf1.fit(X_train_nn, y_train_nn)\n",
    "y_pred_nn = clf1.predict(X_test_nn)"
   ]
  },
  {
   "cell_type": "code",
   "execution_count": 152,
   "id": "6ffb2d1f",
   "metadata": {},
   "outputs": [
    {
     "data": {
      "image/png": "[encoded data removed]",
      "text/plain": [
       "<Figure size 432x288 with 2 Axes>"
      ]
     },
     "metadata": {
      "needs_background": "light"
     },
     "output_type": "display_data"
    }
   ],
   "source": [
    "cm_nn = confusion_matrix(y_test_nn, y_pred_nn, labels=clf1.classes_)\n",
    "disp = ConfusionMatrixDisplay(confusion_matrix=cm_nn, display_labels=clf1.classes_)\n",
    "disp.plot()\n",
    "plt.show()"
   ]
  },
  {
   "cell_type": "code",
   "execution_count": null,
   "id": "f520016d",
   "metadata": {},
   "outputs": [],
   "source": [
    "\"\"\"\n",
    "References: -https://scikit-learn.org/stable/modules/generated/sklearn.metrics.classification_report.html\n",
    "\"\"\""
   ]
  },
  {
   "cell_type": "code",
   "execution_count": 153,
   "id": "2a5c05d7",
   "metadata": {},
   "outputs": [
    {
     "name": "stdout",
     "output_type": "stream",
     "text": [
      "neural network\n",
      "              precision    recall  f1-score   support\n",
      "\n",
      "     class 0       0.47      0.89      0.61       225\n",
      "     class 2       0.72      0.48      0.58       206\n",
      "     class 4       0.85      0.24      0.37       213\n",
      "     class 5       0.64      0.69      0.67       202\n",
      "\n",
      "    accuracy                           0.58       846\n",
      "   macro avg       0.67      0.58      0.56       846\n",
      "weighted avg       0.67      0.58      0.56       846\n",
      "\n",
      "Random forest\n",
      "              precision    recall  f1-score   support\n",
      "\n",
      "     class 0       0.68      0.72      0.70       225\n",
      "     class 2       0.71      0.78      0.74       206\n",
      "     class 4       0.66      0.62      0.64       213\n",
      "     class 5       0.72      0.65      0.68       202\n",
      "\n",
      "    accuracy                           0.69       846\n",
      "   macro avg       0.69      0.69      0.69       846\n",
      "weighted avg       0.69      0.69      0.69       846\n",
      "\n",
      "svm\n",
      "              precision    recall  f1-score   support\n",
      "\n",
      "     class 0       0.72      0.72      0.72       225\n",
      "     class 2       0.68      0.84      0.75       206\n",
      "     class 4       0.71      0.61      0.66       213\n",
      "     class 5       0.75      0.67      0.71       202\n",
      "\n",
      "    accuracy                           0.71       846\n",
      "   macro avg       0.71      0.71      0.71       846\n",
      "weighted avg       0.71      0.71      0.71       846\n",
      "\n"
     ]
    }
   ],
   "source": [
    "print(\"neural network\")\n",
    "print(classification_report(y_test_nn, y_pred_nn, target_names=[\"class 0\",\"class 2\",\"class 4\",\"class 5\"]))\n",
    "\n",
    "print(\"Random forest\")\n",
    "print(classification_report(y_test_rf, y_pred_rf, target_names=[\"class 0\",\"class 2\",\"class 4\",\"class 5\"]))\n",
    "\n",
    "print(\"svm\")\n",
    "\n",
    "print(classification_report(y_test_svm, y_pred_svm, target_names=[\"class 0\",\"class 2\",\"class 4\",\"class 5\"]))"
   ]
  },
  {
   "cell_type": "code",
   "execution_count": 158,
   "id": "c7ead182",
   "metadata": {},
   "outputs": [],
   "source": [
    "#From the confusion matrix, since the accuracy of svm is highest, it is the better model of the 3."
   ]
  },
  {
   "cell_type": "code",
   "execution_count": null,
   "id": "fd50d13a",
   "metadata": {},
   "outputs": [],
   "source": []
  },
  {
   "cell_type": "markdown",
   "id": "3d98d40d",
   "metadata": {},
   "source": [
    "# Validation accuracies"
   ]
  },
  {
   "cell_type": "code",
   "execution_count": 154,
   "id": "ea93103b",
   "metadata": {},
   "outputs": [
    {
     "name": "stdout",
     "output_type": "stream",
     "text": [
      "[0.6220023074300998]\n",
      "[0.7133927088704954]\n",
      "[0.7385362677318137]\n"
     ]
    }
   ],
   "source": [
    "print(validation_accuracy_nn)\n",
    "print(validation_accuracy_rf)\n",
    "print(validation_accuracy_svm)"
   ]
  },
  {
   "cell_type": "code",
   "execution_count": 159,
   "id": "d7a02343",
   "metadata": {},
   "outputs": [],
   "source": [
    "#Based on the validation accuracy, the validation accuracy is highest for svm model so that is the better model of the 3."
   ]
  },
  {
   "cell_type": "code",
   "execution_count": null,
   "id": "8061727b",
   "metadata": {},
   "outputs": [],
   "source": []
  },
  {
   "cell_type": "code",
   "execution_count": null,
   "id": "98c9c3ef",
   "metadata": {},
   "outputs": [],
   "source": []
  },
  {
   "cell_type": "code",
   "execution_count": null,
   "id": "bc018090",
   "metadata": {},
   "outputs": [],
   "source": []
  },
  {
   "cell_type": "code",
   "execution_count": null,
   "id": "59fe2338",
   "metadata": {},
   "outputs": [],
   "source": []
  }
 ],
 "metadata": {
  "kernelspec": {
   "display_name": "Python 3 (ipykernel)",
   "language": "python",
   "name": "python3"
  },
  "language_info": {
   "codemirror_mode": {
    "name": "ipython",
    "version": 3
   },
   "file_extension": ".py",
   "mimetype": "text/x-python",
   "name": "python",
   "nbconvert_exporter": "python",
   "pygments_lexer": "ipython3",
   "version": "3.9.7"
  }
 },
 "nbformat": 4,
 "nbformat_minor": 5
}
